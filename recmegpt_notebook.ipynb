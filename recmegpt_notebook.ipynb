{
 "cells": [
  {
   "cell_type": "code",
   "execution_count": 1,
   "metadata": {},
   "outputs": [],
   "source": [
    "from IPython.display import display, HTML, clear_output\n",
    "import ipywidgets as widgets\n",
    "from link_builder import get_rec_link\n",
    "from recmegpt_module import RecMeGPT"
   ]
  },
  {
   "cell_type": "markdown",
   "metadata": {},
   "source": [
    "<h3 >Welcome to RecMeGPT! </h3>\n",
    "Discover your next obsession with RecMeGPT! Unleash a world of entertainment tailored just for you! From mind-bending albums to immersive games, cinematic gems, gripping TV shows, and literary masterpieces. Explore, experience, and elevate your entertainment journey with our curated suggestions. Your next favorite thing awaits!<br>\n",
    "You can enter anything from any media you like and even love! From a theme to a song or band or movie and anything in between! We will do our best to get you going!"
   ]
  },
  {
   "cell_type": "code",
   "execution_count": 2,
<<<<<<< Updated upstream
   "metadata": {},
=======
   "metadata": {
    "scrolled": true
   },
>>>>>>> Stashed changes
   "outputs": [
    {
     "data": {
      "application/vnd.jupyter.widget-view+json": {
<<<<<<< Updated upstream
       "model_id": "4f7ca26e7dcb4ac982401bb8cf5fa066",
=======
       "model_id": "e8d5a8c89d0a44d99dc4491868c573a8",
>>>>>>> Stashed changes
       "version_major": 2,
       "version_minor": 0
      },
      "text/plain": [
       "Text(value='', description='Your input:', placeholder='Type something you like!')"
      ]
     },
     "metadata": {},
     "output_type": "display_data"
    },
    {
     "data": {
      "application/vnd.jupyter.widget-view+json": {
<<<<<<< Updated upstream
       "model_id": "b1c7ab34e4d3496cbea7a2dd06012621",
=======
       "model_id": "fb060af3f1804d90996db39b4d3501c9",
>>>>>>> Stashed changes
       "version_major": 2,
       "version_minor": 0
      },
      "text/plain": [
       "Button(description='Get your recs!', style=ButtonStyle(), tooltip='Click me!')"
      ]
     },
     "metadata": {},
     "output_type": "display_data"
    },
    {
     "data": {
      "application/vnd.jupyter.widget-view+json": {
<<<<<<< Updated upstream
       "model_id": "a726c98f10314424a1596dec66955fdd",
=======
       "model_id": "bd11b158e4904550a112e307a331c7d0",
>>>>>>> Stashed changes
       "version_major": 2,
       "version_minor": 0
      },
      "text/plain": [
       "Output()"
      ]
     },
     "metadata": {},
     "output_type": "display_data"
    }
   ],
   "source": [
    "# The textbox for the user to input what they need and the button to call the GPT Model and show the results\n",
    "user_input = widgets.Text( value='', placeholder='Type something you like!', description='Your input:')\n",
    "gpt_button = widgets.Button(description='Get your recs!', tooltip='Click me!')\n",
    "# Output to show the recommendations\n",
    "output_area = widgets.Output()\n",
    "\n",
    "def get_recommendations(a):\n",
    "    \"\"\"\n",
    "    Calls the class RecMeGPT to try to get the recommendation based on the textbox.\n",
    "    If successful, it will the display them. If not, it will tell the user it couldn't be done and to try again.\n",
    "    Args:\n",
    "    - a (widgets.Button): The input by the user representing what they like and want to get recommendations based off.    \n",
    "    Returns:\n",
    "    - None\n",
    "    \"\"\"\n",
    "         \n",
    "    def display_recs(recs,header,index):\n",
    "        \"\"\"\n",
    "        Inner function to display the recommendations in HTML tags\n",
    "         Args:\n",
    "        - recs (list): List of dictionaries with the recommendations for a specific media\n",
    "        - header (str): Value of the HTML header\n",
    "        - index (int):  Numeric identifier of the media, used to create hyperlinks for each recommendation  \n",
    "        Returns:\n",
    "        - None\n",
    "        \"\"\"\n",
    "        displayed_text=f\"<h2>{header}</h2>\"\n",
    "        for rec in recs:\n",
    "            displayed_text += f'<h3>{rec[\"title\"]}</h3>{rec[\"description\"]} - {get_rec_link(rec[\"title\"],index)} <br>'\n",
    "        with output_area:\n",
    "            display(HTML(displayed_text))\n",
    "\n",
    "    try:\n",
    "        # Disables interactive objects so the user cannot send a new request if one is already running        \n",
    "        user_input.disabled = True\n",
    "        gpt_button.disabled = True\n",
    "                \n",
    "        # Check if the input was empty, if so, it will warn the user to fix it\n",
    "        if not user_input.value:\n",
    "            raise Exception(\"You forgot to input something! Please try again!\")\n",
    "            \n",
    "        # Starts looking for the recommendations\n",
    "        with output_area:\n",
    "            clear_output(wait=True)\n",
    "            display(HTML(\"<h3>Looking for recommendations...</h3>\"))\n",
    "        \n",
    "        # Creates an object of the class in charge of interacting with chatGPT\n",
    "        recme_gpt = RecMeGPT()\n",
    "        # Sets the response to data, depending on the GPT model reply\n",
    "        data = recme_gpt.request_recommendation(user_input.value.strip(),1)\n",
    "        \n",
    "        # If there was an exception on the request, it warns the user\n",
    "        if \"exception\" in data:\n",
    "            raise Exception(data[\"exception\"])\n",
    "        \n",
    "        # If the data was OK (reply from GPT with recommendations)... \n",
    "        # it will show the data of the recommendations\n",
    "        if data[\"status\"] == \"OK\":            \n",
    "            # In case the recommendations don't come in order, this dictionary will provide \n",
    "            # the indentifier of media for the link builder and the html header\n",
    "            html_display = {\n",
    "                \"albums\": [0,\"Music Albums\"],\n",
    "                \"games\": [1,\"Videogames\"],             \n",
    "                \"movies\": [2,\"Movies\"],\n",
    "                \"tv\": [3,\"TV Shows\"],\n",
    "                \"books\": [4,\"Books\"]\n",
    "            }\n",
    "            \n",
    "            with output_area:\n",
    "                display(HTML(f\"<h1>Your recommendations!</h1>{data['header']}\" ))                \n",
    "                       \n",
    "            for media, recs in data[\"recs\"].items():\n",
    "                display_recs(recs, html_display[media][1], html_display[media][0])\n",
    "                \n",
    "        #if there no problems connecting to the GPT Model, but the model couldn't find anything...\n",
    "        # it warns the user\n",
    "        else:\n",
    "            with output_area:\n",
    "                clear_output(wait=True)                \n",
    "                display(HTML(\"<h2>Oops!</h2>I could not find anything, sorry! Please try again!\" ))\n",
    "            \n",
    "    except Exception as e:\n",
    "        error = str(e)     \n",
    "        with output_area:\n",
    "            clear_output(wait=True)\n",
    "            display(HTML(f\"<h2>Oops!</h2>{error}\"))\n",
    "    finally:\n",
    "        # Re-enables the interactive objects, so the user can try again\n",
    "        user_input.disabled = False\n",
    "        gpt_button.disabled = False\n",
    "\n",
    "# Set the function to run when the button is clicked\n",
    "gpt_button.on_click(get_recommendations)\n",
    "# Displays the input textbox, button to get the recommendations and error messages/recommendations\n",
    "display(user_input, gpt_button)\n",
    "display(output_area)\n"
   ]
  },
  {
   "cell_type": "code",
   "execution_count": null,
   "metadata": {
    "jupyter": {
     "source_hidden": true
    }
   },
   "outputs": [],
   "source": []
  }
 ],
 "metadata": {
  "kernelspec": {
   "display_name": "Python 3 (ipykernel)",
   "language": "python",
   "name": "python3"
  },
  "language_info": {
   "codemirror_mode": {
    "name": "ipython",
    "version": 3
   },
   "file_extension": ".py",
   "mimetype": "text/x-python",
   "name": "python",
   "nbconvert_exporter": "python",
   "pygments_lexer": "ipython3",
   "version": "3.11.3"
  }
 },
 "nbformat": 4,
 "nbformat_minor": 4
}
