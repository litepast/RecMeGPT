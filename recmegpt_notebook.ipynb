{
 "cells": [
  {
   "cell_type": "code",
   "execution_count": 1,
   "metadata": {
    "jupyter": {
     "source_hidden": true
    }
   },
   "outputs": [],
   "source": [
    "\"\"\"\n",
    "Full disclosure: This version works best on a Jupyter Notebook server.\n",
    "Only difference with VSCode is the inclusion of an output widget to display HTML properly on the second Code Cell.\n",
    "If run on VSCode with Jupyter extension, it might have trouble rendering the output Widget as it should.\n",
    "There seems to be documented issues and difference between the two as shown here: https://github.com/microsoft/vscode-jupyter/issues/9503\n",
    "\"\"\"\n",
    "from IPython.display import display, HTML, clear_output\n",
    "import ipywidgets as widgets\n",
    "from link_builder import get_rec_link\n",
    "from recmegpt_module import RecMeGPT"
   ]
  },
  {
   "cell_type": "markdown",
   "metadata": {},
   "source": [
    "<h3 >Welcome to RecMeGPT! </h3>\n",
    "Discover your next obsession with RecMeGPT! Unleash a world of entertainment tailored just for you! From mind-bending albums to immersive games, cinematic gems, gripping TV shows, and literary masterpieces. Explore, experience, and elevate your entertainment journey with our curated suggestions. Your next favorite thing awaits!<br>\n",
    "You can enter anything from any media you like and even love!<br>\n",
    "From a theme to a song or band or movie and anything in between! We will do the best to get you going!"
   ]
  },
  {
   "cell_type": "code",
   "execution_count": 2,
   "metadata": {},
   "outputs": [
    {
     "data": {
      "application/vnd.jupyter.widget-view+json": {
       "model_id": "75df25203ae2495ebafa1acf1fe1bc89",
       "version_major": 2,
       "version_minor": 0
      },
      "text/plain": [
       "Text(value='', description='Your input:', placeholder='Type something you like!')"
      ]
     },
     "metadata": {},
     "output_type": "display_data"
    },
    {
     "data": {
      "application/vnd.jupyter.widget-view+json": {
       "model_id": "c3fe668b66d34757abf6345e51292914",
       "version_major": 2,
       "version_minor": 0
      },
      "text/plain": [
       "Button(description='Get your recs!', style=ButtonStyle(), tooltip='Click me!')"
      ]
     },
     "metadata": {},
     "output_type": "display_data"
    },
    {
     "data": {
      "application/vnd.jupyter.widget-view+json": {
       "model_id": "167dd254d191402e8f063e006c85f628",
       "version_major": 2,
       "version_minor": 0
      },
      "text/plain": [
       "Output()"
      ]
     },
     "metadata": {},
     "output_type": "display_data"
    }
   ],
   "source": [
    "# The textbox for the user to input what they need and the button to call the GPT Model and show the results\n",
    "user_input = widgets.Text( value='', placeholder='Type something you like!', description='Your input:')\n",
    "gpt_button = widgets.Button(description='Get your recs!', tooltip='Click me!')\n",
    "output_area = widgets.Output()\n",
    "\n",
    "def get_recommendations(a):\n",
    "    \"\"\"\n",
    "    Calls the class RecMeGPT to try to get the recommendation based on the textbox.\n",
    "    If sucessfull it will the display them, if not it will tell the user it couldn't be done and to try again.\n",
    "    Args:\n",
    "    - a (widgets.Button): The input by the user representing what they like and want to get recommendations based off.    \n",
    "    Returns:\n",
    "    - None\n",
    "    \"\"\"\n",
    "         \n",
    "    def display_recs(recs,header,index):\n",
    "        \"\"\"\n",
    "        Inner function to display the recommendations in HTML tags\n",
    "         Args:\n",
    "        - recs (list): List of dict with the recommendations for a specific media\n",
    "        - header (str): Value of the HTML header\n",
    "        - index (int):  Numeric identifier of the media, used to create hyperlinks for each recommendation  \n",
    "        Returns:\n",
    "        - None\n",
    "        \"\"\"\n",
    "        displayed_text=f\"<h2>{header}</h2>\"\n",
    "        for rec in recs:\n",
    "            displayed_text += f'<h3>{rec[\"title\"]}</h3>{rec[\"description\"]} - {get_rec_link(rec[\"title\"],index)} <br>'\n",
    "        with output_area:\n",
    "            #clear_output(wait=True)\n",
    "            display(HTML(displayed_text))\n",
    "\n",
    "    try:\n",
    "        # Clear output, disables interactive objects so the user cannot send a new request if one is already running        \n",
    "        user_input.disabled = True\n",
    "        gpt_button.disabled = True\n",
    "                \n",
    "        # Check if the input was empty, if so, it will warn the user to fix it\n",
    "        if not user_input.value:\n",
    "            raise Exception(\"<h2>Oops!</h2>You forgot to input something! Please try again!\")\n",
    "        with output_area:\n",
    "            clear_output(wait=True)\n",
    "            display(HTML(\"<h3>Looking for recommendations...</h3>\"))\n",
    "        \n",
    "        # Create an object of the class in charge of interacting with GPT\n",
    "        recme_gpt = RecMeGPT()\n",
    "        # Set the response to 'data', 'data' will be False if there was an issue on the object function\n",
    "        data = recme_gpt.request_recommendation(user_input.value.strip(),1)\n",
    "        \n",
    "        #testing with local json\n",
    "        #import json\n",
    "        #with open('test_from_web.json','r') as file:\n",
    "        #    data = json.load(file)\n",
    "\n",
    "\n",
    "        # If there was an issue with the 'data', warns the user\n",
    "        if not data:\n",
    "            raise Exception(\"<h2>Oops!</h2>Something went wrong! Please try again with another input!\")\n",
    "        \n",
    "        # If the data was OK, it will show the data of the recommendations\n",
    "        if data[\"status\"] == \"OK\":            \n",
    "            html_headers=[\"Music Albums\", \"Videogames\", \"Movies\", \"TV Shows\", \"Books\"]\n",
    "            with output_area:\n",
    "                display(HTML(f\"<h1>Your recommendations!</h1>{data['header']}\" ))\n",
    "            for i, recs in enumerate(data[\"recs\"].values()):\n",
    "                display_recs(recs, html_headers[i], i)\n",
    "        #if the data set by the GPT Model, but the model couldn't find anything, it warn the user\n",
    "        else:\n",
    "            with output_area:\n",
    "                clear_output(wait=True)\n",
    "                display(HTML(f\"<h2>Oops!</h2>I could not find anything, sorry! Please try again!\" ))\n",
    "        \n",
    "    except Exception as e:\n",
    "        error = str(e)\n",
    "        if error[:4] != '<h2>':\n",
    "            error = \"<h2>Oops!</h2>Something went wrong! Please try again!\"\n",
    "        with output_area:\n",
    "            clear_output(wait=True)\n",
    "            display(HTML(error))\n",
    "    finally:\n",
    "        # Re-enable the interactive objects, so the user can try again\n",
    "        user_input.disabled = False\n",
    "        gpt_button.disabled = False\n",
    "\n",
    "\n",
    "# Set the function to run when the button is click and shows the interactive objects for the first time\n",
    "#gpt_button.on_click(get_recommendations)\n",
    "\n",
    "gpt_button.on_click(get_recommendations)\n",
    "display(user_input)\n",
    "display(gpt_button, output_area)\n"
   ]
  },
  {
   "cell_type": "code",
   "execution_count": null,
   "metadata": {},
   "outputs": [],
   "source": []
  },
  {
   "cell_type": "code",
   "execution_count": null,
   "metadata": {},
   "outputs": [],
   "source": []
  }
 ],
 "metadata": {
  "kernelspec": {
   "display_name": "Python 3 (ipykernel)",
   "language": "python",
   "name": "python3"
  },
  "language_info": {
   "codemirror_mode": {
    "name": "ipython",
    "version": 3
   },
   "file_extension": ".py",
   "mimetype": "text/x-python",
   "name": "python",
   "nbconvert_exporter": "python",
   "pygments_lexer": "ipython3",
   "version": "3.11.3"
  }
 },
 "nbformat": 4,
 "nbformat_minor": 4
}
