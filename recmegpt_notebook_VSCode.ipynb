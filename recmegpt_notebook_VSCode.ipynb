{
 "cells": [
  {
   "cell_type": "code",
   "execution_count": 1,
   "metadata": {},
   "outputs": [],
   "source": [
    "\"\"\"\n",
    "Full Disclosure: I started with this version.\n",
    "this version works better on VS Code with the Jupyter Extension\n",
    "than on a Jupyter Notebook server, as on VSCode will display the HTML tags without creating\n",
    "an extra widget.Output Variable.\n",
    "There seems to be documented issues and difference between the two as shown here: https://github.com/microsoft/vscode-jupyter/issues/9503\n",
    "\"\"\"\n",
    "from IPython.display import display, HTML, clear_output\n",
    "import ipywidgets as widgets\n",
    "from link_builder import get_rec_link\n",
    "from recmegpt_module import RecMeGPT"
   ]
  },
  {
   "cell_type": "markdown",
   "metadata": {},
   "source": [
    "<h3 >Welcome to RecMeGPT! </h3>\n",
    "Discover your next obsession with RecMeGPT! Unleash a world of entertainment tailored just for you! From mind-bending albums to immersive games, cinematic gems, gripping TV shows, and literary masterpieces. Explore, experience, and elevate your entertainment journey with our curated suggestions. Your next favorite thing awaits!<br>\n",
    "You can enter anything from any media you like and even love!<br>\n",
    "From a theme to a song or band or movie and anything in between! We will do the best to get you going!\n",
    "\n",
    "\n"
   ]
  },
  {
   "cell_type": "code",
   "execution_count": null,
   "metadata": {},
   "outputs": [
    {
     "data": {
      "application/vnd.jupyter.widget-view+json": {
       "model_id": "9ec62162bdd44048856e307b44dee358",
       "version_major": 2,
       "version_minor": 0
      },
      "text/plain": [
       "Text(value='Rick and Morty', description='Your input:', disabled=True, placeholder='Type something you like!')"
      ]
     },
     "metadata": {},
     "output_type": "display_data"
    },
    {
     "data": {
      "application/vnd.jupyter.widget-view+json": {
       "model_id": "811c97a44a7646ac993d1c33d858d5f0",
       "version_major": 2,
       "version_minor": 0
      },
      "text/plain": [
       "Button(description='Get your recs!', disabled=True, style=ButtonStyle(), tooltip='Click me!')"
      ]
     },
     "metadata": {},
     "output_type": "display_data"
    },
    {
     "data": {
      "text/html": [
       "<h3>Looking for recommendations...</h3>"
      ],
      "text/plain": [
       "<IPython.core.display.HTML object>"
      ]
     },
     "metadata": {},
     "output_type": "display_data"
    },
    {
     "data": {
      "text/html": [
       "<h1>Your recommendations!</h1>If you enjoy the humor, sci-fi adventure, and thought-provoking elements of Rick and Morty, you might like these recommendations!"
      ],
      "text/plain": [
       "<IPython.core.display.HTML object>"
      ]
     },
     "metadata": {},
     "output_type": "display_data"
    },
    {
     "data": {
      "text/html": [
       "<h2>Music Albums</h2><h3>Random Access Memories</h3>Daft Punk's award-winning album with futuristic sound and electronic funk vibes. - <a href=\"https://open.spotify.com/search/Random Access Memories/albums\">Listen to the Album on Spotify</a> <br><h3>In the Court of the Crimson King</h3>A classic progressive rock album by King Crimson with complex concept and otherworldly themes. - <a href=\"https://open.spotify.com/search/In the Court of the Crimson King/albums\">Listen to the Album on Spotify</a> <br><h3>Plastic Beach</h3>Gorillaz's album blending multiple genres with a dystopian narrative and quirky storytelling. - <a href=\"https://open.spotify.com/search/Plastic Beach/albums\">Listen to the Album on Spotify</a> <br><h3>Currents</h3>Tame Impala's psychedelic album with introspective lyrics and otherworldly sonic landscapes. - <a href=\"https://open.spotify.com/search/Currents/albums\">Listen to the Album on Spotify</a> <br><h3>To Pimp a Butterfly</h3>Kendrick Lamar's concept album exploring societal issues with layered production and storytelling. - <a href=\"https://open.spotify.com/search/To Pimp a Butterfly/albums\">Listen to the Album on Spotify</a> <br>"
      ],
      "text/plain": [
       "<IPython.core.display.HTML object>"
      ]
     },
     "metadata": {},
     "output_type": "display_data"
    },
    {
     "data": {
      "text/html": [
       "<h2>Videogames</h2><h3>Portal 2</h3>Puzzle-platform game filled with dark humor, intriguing puzzles, and a mind-bending storyline. - <a href=\"https://www.mobygames.com/search/?q=Portal 2\">Check the videogame information on Mobygames</a> <br><h3>The Stanley Parable</h3>Interactive narrative game that challenges traditional game storytelling with meta humor and mind-bending choices. - <a href=\"https://www.mobygames.com/search/?q=The Stanley Parable\">Check the videogame information on Mobygames</a> <br><h3>No Man's Sky</h3>Sci-fi adventure game with exploration, discovery, and open-world elements in a vast, procedurally generated universe. - <a href=\"https://www.mobygames.com/search/?q=No Man's Sky\">Check the videogame information on Mobygames</a> <br><h3>Outer Wilds</h3>Space exploration game with mystery, discovery, and a non-linear narrative set in a beautifully crafted universe. - <a href=\"https://www.mobygames.com/search/?q=Outer Wilds\">Check the videogame information on Mobygames</a> <br><h3>Psychonauts</h3>Action-adventure game with surreal humor, psychic powers, and creative level design. - <a href=\"https://www.mobygames.com/search/?q=Psychonauts\">Check the videogame information on Mobygames</a> <br>"
      ],
      "text/plain": [
       "<IPython.core.display.HTML object>"
      ]
     },
     "metadata": {},
     "output_type": "display_data"
    },
    {
     "data": {
      "text/html": [
       "<h2>Movies</h2><h3>The Hitchhiker's Guide to the Galaxy</h3>Sci-fi comedy film filled with absurdity, intergalactic adventure, and philosophical humor. - <a href=\"https://www.youtube.com/results?search_query=The Hitchhiker's Guide to the Galaxy+trailer\">Watch the movie trailer on Youtube</a> <br><h3>Donnie Darko</h3>Mind-bending film with metaphysical themes, dark humor, and alternate reality twists. - <a href=\"https://www.youtube.com/results?search_query=Donnie Darko+trailer\">Watch the movie trailer on Youtube</a> <br><h3>Interstellar</h3>Epic sci-fi film with time-bending concepts, existential themes, and visually stunning space exploration. - <a href=\"https://www.youtube.com/results?search_query=Interstellar+trailer\">Watch the movie trailer on Youtube</a> <br><h3>The Congress</h3>Animated/live-action hybrid film featuring dystopian future, surreal visuals, and thought-provoking commentary on media and technology. - <a href=\"https://www.youtube.com/results?search_query=The Congress+trailer\">Watch the movie trailer on Youtube</a> <br><h3>Eternal Sunshine of the Spotless Mind</h3>Romantic sci-fi film exploring memories, existential crisis, and unique storytelling style. - <a href=\"https://www.youtube.com/results?search_query=Eternal Sunshine of the Spotless Mind+trailer\">Watch the movie trailer on Youtube</a> <br>"
      ],
      "text/plain": [
       "<IPython.core.display.HTML object>"
      ]
     },
     "metadata": {},
     "output_type": "display_data"
    },
    {
     "data": {
      "text/html": [
       "<h2>TV Shows</h2><h3>Futurama</h3>Animated series set in a futuristic world filled with satire, sci-fi adventures, and offbeat humor. - <a href=\"https://www.imdb.com/find/?s=tt&q=Futurama&ref_=nv_sr_sm\">Check the TV Show information on IMDB</a> <br><h3>The Venture Bros.</h3>Adult animated series with parody of adventure cartoons, pop culture satire, and quirky characters. - <a href=\"https://www.imdb.com/find/?s=tt&q=The Venture Bros.&ref_=nv_sr_sm\">Check the TV Show information on IMDB</a> <br><h3>Community</h3>Comedy series with meta humor, pop culture references, and absurd storylines in a community college setting. - <a href=\"https://www.imdb.com/find/?s=tt&q=Community&ref_=nv_sr_sm\">Check the TV Show information on IMDB</a> <br><h3>The Midnight Gospel</h3>Animated series blending surreal visuals, existential philosophy, and dark humor across various realities. - <a href=\"https://www.imdb.com/find/?s=tt&q=The Midnight Gospel&ref_=nv_sr_sm\">Check the TV Show information on IMDB</a> <br><h3>Black Mirror</h3>Anthology series exploring dystopian technology, societal impacts, and thought-provoking narratives. - <a href=\"https://www.imdb.com/find/?s=tt&q=Black Mirror&ref_=nv_sr_sm\">Check the TV Show information on IMDB</a> <br>"
      ],
      "text/plain": [
       "<IPython.core.display.HTML object>"
      ]
     },
     "metadata": {},
     "output_type": "display_data"
    },
    {
     "data": {
      "text/html": [
       "<h2>Books</h2><h3>Good Omens</h3>Neil Gaiman and Terry Pratchett's humorous fantasy novel with apocalyptic elements and quirky characters. - <a href=\"https://www.goodreads.com/search?utf8=%E2%9C%93&query=Good Omens\">Check the Book information on GoodReads</a> <br><h3>Slaughterhouse-Five</h3>Kurt Vonnegut's classic anti-war novel with nonlinear narrative, time travel, and dark comedic undertones. - <a href=\"https://www.goodreads.com/search?utf8=%E2%9C%93&query=Slaughterhouse-Five\">Check the Book information on GoodReads</a> <br><h3>The Hitchhiker's Guide to the Galaxy</h3>Douglas Adams' satirical sci-fi novel with absurd adventures, philosophical humor, and space exploration. - <a href=\"https://www.goodreads.com/search?utf8=%E2%9C%93&query=The Hitchhiker's Guide to the Galaxy\">Check the Book information on GoodReads</a> <br><h3>Snow Crash</h3>Neal Stephenson's cyberpunk novel filled with action, humor, and virtual reality concepts. - <a href=\"https://www.goodreads.com/search?utf8=%E2%9C%93&query=Snow Crash\">Check the Book information on GoodReads</a> <br><h3>Ready Player One</h3>Ernest Cline's immersive sci-fi novel with pop culture references, virtual reality gaming, and epic quests. - <a href=\"https://www.goodreads.com/search?utf8=%E2%9C%93&query=Ready Player One\">Check the Book information on GoodReads</a> <br>"
      ],
      "text/plain": [
       "<IPython.core.display.HTML object>"
      ]
     },
     "metadata": {},
     "output_type": "display_data"
    }
   ],
   "source": [
    "# The textbox for the user to input what they need and the button to call the GPT Model and show the results\n",
    "user_input = widgets.Text( value='', placeholder='Type something you like!', description='Your input:')\n",
    "gpt_button = widgets.Button(description='Get your recs!', tooltip='Click me!')\n",
    "\n",
    "def get_recommendations(a):\n",
    "    \"\"\"\n",
    "    Calls the class RecMeGPT to try to get the recommendation based on the textbox.\n",
    "    If sucessfull it will the display them, if not it will tell the user it couldn't be done and to try again.\n",
    "    Args:\n",
    "    - a (widgets.Button): The input by the user representing what they like and want to get recommendations based off.    \n",
    "    Returns:\n",
    "    - None\n",
    "    \"\"\"\n",
    "         \n",
    "    def display_recs(recs,header,index):\n",
    "        \"\"\"\n",
    "        Inner function to display the recommendations in HTML tags\n",
    "         Args:\n",
    "        - recs (list): List of dict with the recommendations for a specific media\n",
    "        - header (str): Value of the HTML header\n",
    "        - index (int):  Numeric identifier of the media, used to create hyperlinks for each recommendation  \n",
    "        Returns:\n",
    "        - None\n",
    "        \"\"\"\n",
    "        displayed_text=f\"<h2>{header}</h2>\"\n",
    "        for rec in recs:\n",
    "            displayed_text += f'<h3>{rec[\"title\"]}</h3>{rec[\"description\"]} - {get_rec_link(rec[\"title\"],index)} <br>'\n",
    "        display(HTML(displayed_text))\n",
    "\n",
    "    try:\n",
    "        # Clear output, disables interactive objects so the user cannot send a new request if one is already running\n",
    "        clear_output()\n",
    "        user_input.disabled = True\n",
    "        gpt_button.disabled = True\n",
    "        display(user_input)\n",
    "        display(gpt_button)\n",
    "        \n",
    "        # Check if the input was empty, if so, it will warn the user to fix it\n",
    "        if not user_input.value:\n",
    "            raise Exception(\"<h2>Oops!</h2>You forgot to input something! Please try again!\")\n",
    "        \n",
    "        display(HTML(\"<h3>Looking for recommendations...</h3>\"))\n",
    "        \n",
    "        # Create an object of the class in charge of interacting with GPT\n",
    "        recme_gpt = RecMeGPT()\n",
    "        \n",
    "        # Set the response to 'data', 'data' will be False if there was an issue on the object function\n",
    "        data = recme_gpt.request_recommendation(user_input.value.strip(),1)\n",
    "        \n",
    "        # If there was an issue with the 'data', warns the user\n",
    "        if not data:\n",
    "            raise Exception(\"<h2>Oops!</h2>Something went wrong! Please try again with another input!\")\n",
    "        \n",
    "        # If the data was OK, it will show the data of the recommendations\n",
    "        if data[\"status\"] == \"OK\":            \n",
    "            html_headers=[\"Music Albums\", \"Videogames\", \"Movies\", \"TV Shows\", \"Books\"]\n",
    "            display(HTML(f\"<h1>Your recommendations!</h1>{data['header']}\" ))\n",
    "            for i, recs in enumerate(data[\"recs\"].values()):\n",
    "                display_recs(recs, html_headers[i], i)\n",
    "        #if the data set by the GPT Model, but the model couldn't find anything, it warn the user\n",
    "        else:\n",
    "            display(HTML(f\"<h2>Oops!</h2>I could not find anything, sorry! Please try again!\" ))\n",
    "        \n",
    "    except Exception as e:\n",
    "        error = str(e)\n",
    "        if error[:4] != '<h2>':\n",
    "            error = \"<h2>Oops!</h2>Something went wrong! Please try again!\"\n",
    "        display(HTML(error))\n",
    "    finally:\n",
    "        # Re-enable the interactive objects, so the user can try again\n",
    "        user_input.disabled = False\n",
    "        gpt_button.disabled = False\n",
    "\n",
    "\n",
    "# Set the function to run when the button is click and shows the interactive objects for the first time\n",
    "#gpt_button.on_click(get_recommendations)\n",
    "\n",
    "gpt_button.on_click(get_recommendations)\n",
    "display(user_input)\n",
    "display(gpt_button)\n"
   ]
  },
  {
   "cell_type": "code",
   "execution_count": null,
   "metadata": {},
   "outputs": [],
   "source": []
  }
 ],
 "metadata": {
  "kernelspec": {
   "display_name": "Python 3 (ipykernel)",
   "language": "python",
   "name": "python3"
  },
  "language_info": {
   "codemirror_mode": {
    "name": "ipython",
    "version": 3
   },
   "file_extension": ".py",
   "mimetype": "text/x-python",
   "name": "python",
   "nbconvert_exporter": "python",
   "pygments_lexer": "ipython3",
   "version": "3.11.3"
  }
 },
 "nbformat": 4,
 "nbformat_minor": 4
}
